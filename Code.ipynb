{
  "nbformat": 4,
  "nbformat_minor": 0,
  "metadata": {
    "colab": {
      "provenance": []
    },
    "kernelspec": {
      "name": "python3",
      "display_name": "Python 3"
    },
    "language_info": {
      "name": "python"
    }
  },
  "cells": [
    {
      "cell_type": "code",
      "execution_count": 2,
      "metadata": {
        "colab": {
          "base_uri": "https://localhost:8080/"
        },
        "id": "TN9fteU8BL8K",
        "outputId": "62514e55-730d-4abc-9040-0b765b4840de"
      },
      "outputs": [
        {
          "output_type": "stream",
          "name": "stdout",
          "text": [
            "Requirement already satisfied: opencv-python-headless==4.5.4.60 in /usr/local/lib/python3.10/dist-packages (4.5.4.60)\n",
            "Requirement already satisfied: numpy>=1.21.2 in /usr/local/lib/python3.10/dist-packages (from opencv-python-headless==4.5.4.60) (1.25.2)\n",
            "Requirement already satisfied: pylint in /usr/local/lib/python3.10/dist-packages (3.2.2)\n",
            "Requirement already satisfied: platformdirs>=2.2.0 in /usr/local/lib/python3.10/dist-packages (from pylint) (4.2.2)\n",
            "Requirement already satisfied: astroid<=3.3.0-dev0,>=3.2.2 in /usr/local/lib/python3.10/dist-packages (from pylint) (3.2.2)\n",
            "Requirement already satisfied: isort!=5.13.0,<6,>=4.2.5 in /usr/local/lib/python3.10/dist-packages (from pylint) (5.13.2)\n",
            "Requirement already satisfied: mccabe<0.8,>=0.6 in /usr/local/lib/python3.10/dist-packages (from pylint) (0.7.0)\n",
            "Requirement already satisfied: tomlkit>=0.10.1 in /usr/local/lib/python3.10/dist-packages (from pylint) (0.12.5)\n",
            "Requirement already satisfied: dill>=0.2 in /usr/local/lib/python3.10/dist-packages (from pylint) (0.3.8)\n",
            "Requirement already satisfied: tomli>=1.1.0 in /usr/local/lib/python3.10/dist-packages (from pylint) (2.0.1)\n",
            "Requirement already satisfied: typing-extensions>=4.0.0 in /usr/local/lib/python3.10/dist-packages (from astroid<=3.3.0-dev0,>=3.2.2->pylint) (4.11.0)\n"
          ]
        }
      ],
      "source": [
        "# Install necessary libraries\n",
        "!pip install tensorflow==2.9.1 pytorch-lightning==1.6.0 torch==1.11.0 torchvision==0.12.0 -q\n",
        "!pip install opencv-python-headless==4.5.4.60\n",
        "!pip install pylint"
      ]
    },
    {
      "cell_type": "code",
      "source": [
        "# Install and run PyLint\n",
        "!pip install pylint\n",
        "!pylint *.py"
      ],
      "metadata": {
        "colab": {
          "base_uri": "https://localhost:8080/"
        },
        "id": "Axb5FG-4FIEc",
        "outputId": "05b7a3cc-4f24-4f6e-e66b-4721233856ef"
      },
      "execution_count": 10,
      "outputs": [
        {
          "output_type": "stream",
          "name": "stdout",
          "text": [
            "Requirement already satisfied: pylint in /usr/local/lib/python3.10/dist-packages (3.2.2)\n",
            "Requirement already satisfied: platformdirs>=2.2.0 in /usr/local/lib/python3.10/dist-packages (from pylint) (4.2.2)\n",
            "Requirement already satisfied: astroid<=3.3.0-dev0,>=3.2.2 in /usr/local/lib/python3.10/dist-packages (from pylint) (3.2.2)\n",
            "Requirement already satisfied: isort!=5.13.0,<6,>=4.2.5 in /usr/local/lib/python3.10/dist-packages (from pylint) (5.13.2)\n",
            "Requirement already satisfied: mccabe<0.8,>=0.6 in /usr/local/lib/python3.10/dist-packages (from pylint) (0.7.0)\n",
            "Requirement already satisfied: tomlkit>=0.10.1 in /usr/local/lib/python3.10/dist-packages (from pylint) (0.12.5)\n",
            "Requirement already satisfied: dill>=0.2 in /usr/local/lib/python3.10/dist-packages (from pylint) (0.3.8)\n",
            "Requirement already satisfied: tomli>=1.1.0 in /usr/local/lib/python3.10/dist-packages (from pylint) (2.0.1)\n",
            "Requirement already satisfied: typing-extensions>=4.0.0 in /usr/local/lib/python3.10/dist-packages (from astroid<=3.3.0-dev0,>=3.2.2->pylint) (4.11.0)\n",
            "************* Module *.py\n",
            "*.py:1:0: F0001: No module named *.py (fatal)\n"
          ]
        }
      ]
    },
    {
      "cell_type": "code",
      "source": [
        "# Clone EfficientDet and CSPDarknet53 repositories\n",
        "!git clone https://github.com/google/automl.git\n",
        "!git clone https://github.com/WongKinYiu/CrossStagePartialNetworks.git"
      ],
      "metadata": {
        "colab": {
          "base_uri": "https://localhost:8080/"
        },
        "id": "xqoffXPkDB0n",
        "outputId": "ee7c65fb-1230-4452-9de6-a64ed62fa9fe"
      },
      "execution_count": 3,
      "outputs": [
        {
          "output_type": "stream",
          "name": "stdout",
          "text": [
            "Cloning into 'automl'...\n",
            "remote: Enumerating objects: 4314, done.\u001b[K\n",
            "remote: Counting objects: 100% (189/189), done.\u001b[K\n",
            "remote: Compressing objects: 100% (124/124), done.\u001b[K\n",
            "remote: Total 4314 (delta 95), reused 129 (delta 65), pack-reused 4125\u001b[K\n",
            "Receiving objects: 100% (4314/4314), 27.88 MiB | 20.25 MiB/s, done.\n",
            "Resolving deltas: 100% (3213/3213), done.\n",
            "Cloning into 'CrossStagePartialNetworks'...\n",
            "remote: Enumerating objects: 489, done.\u001b[K\n",
            "remote: Counting objects: 100% (150/150), done.\u001b[K\n",
            "remote: Compressing objects: 100% (101/101), done.\u001b[K\n",
            "remote: Total 489 (delta 66), reused 113 (delta 33), pack-reused 339\u001b[K\n",
            "Receiving objects: 100% (489/489), 45.86 MiB | 26.12 MiB/s, done.\n",
            "Resolving deltas: 100% (212/212), done.\n"
          ]
        }
      ]
    },
    {
      "cell_type": "code",
      "source": [
        "# List contents of the CrossStagePartialNetworks directory\n",
        "!ls CrossStagePartialNetworks\n",
        "# List the contents of the cfg directory\n",
        "!ls CrossStagePartialNetworks/cfg"
      ],
      "metadata": {
        "colab": {
          "base_uri": "https://localhost:8080/"
        },
        "id": "kVUqyU7mDLhJ",
        "outputId": "bffa5c2e-7a88-465c-f684-2959c46601c3"
      },
      "execution_count": 24,
      "outputs": [
        {
          "output_type": "stream",
          "name": "stdout",
          "text": [
            " cfg   coco   fig   imagenet  'in progress'   README.md   weight\n",
            "csdarknet53.cfg\t\t   csresnet50-omega.cfg\t\t\t       darknet53.cfg\n",
            "csdarknet53-elastic.cfg    csresnet50-panet-spp.cfg\t\t       darknet.cfg\n",
            "csdarknet53-gamma.cfg\t   csresnext50.cfg\t\t\t       enetb0.cfg\n",
            "csdarknet53-omega.cfg\t   csresnext50-elastic.cfg\t\t       mobilenet-v2.cfg\n",
            "csdarknet53-panet-spp.cfg  csresnext50-gamma.cfg\t\t       res2netlite72.cfg\n",
            "csmobilenet-v2.cfg\t   csresnext50-omega.cfg\t\t       resnet10.cfg\n",
            "csresnet50.cfg\t\t   csresnext50-panet-spp.cfg\t\t       resnet50.cfg\n",
            "csresnet50-elastic.cfg\t   csresnext50-panet-spp-giou.cfg\t       resnext50.cfg\n",
            "csresnet50-gamma.cfg\t   csresnext50-panet-spp-original-optimal.cfg\n",
            "----------------------------------------------------------------------\n",
            "Your code has been rated at 10.00/10 (previous run: 10.00/10, +0.00)\n"
          ]
        }
      ]
    },
    {
      "cell_type": "code",
      "source": [
        "# List the contents of the cfg directory\n",
        "!ls CrossStagePartialNetworks/cfg"
      ],
      "metadata": {
        "colab": {
          "base_uri": "https://localhost:8080/"
        },
        "id": "9NzrRquFDTqv",
        "outputId": "7904f375-4e40-4e4d-a6c6-ddda5fce1034"
      },
      "execution_count": 23,
      "outputs": [
        {
          "output_type": "stream",
          "name": "stdout",
          "text": [
            "csdarknet53.cfg\t\t   csresnet50-omega.cfg\t\t\t       darknet53.cfg\n",
            "csdarknet53-elastic.cfg    csresnet50-panet-spp.cfg\t\t       darknet.cfg\n",
            "csdarknet53-gamma.cfg\t   csresnext50.cfg\t\t\t       enetb0.cfg\n",
            "csdarknet53-omega.cfg\t   csresnext50-elastic.cfg\t\t       mobilenet-v2.cfg\n",
            "csdarknet53-panet-spp.cfg  csresnext50-gamma.cfg\t\t       res2netlite72.cfg\n",
            "csmobilenet-v2.cfg\t   csresnext50-omega.cfg\t\t       resnet10.cfg\n",
            "csresnet50.cfg\t\t   csresnext50-panet-spp.cfg\t\t       resnet50.cfg\n",
            "csresnet50-elastic.cfg\t   csresnext50-panet-spp-giou.cfg\t       resnext50.cfg\n",
            "csresnet50-gamma.cfg\t   csresnext50-panet-spp-original-optimal.cfg\n",
            "----------------------------------------------------------------------\n",
            "Your code has been rated at 10.00/10 (previous run: 10.00/10, +0.00)\n"
          ]
        }
      ]
    },
    {
      "cell_type": "code",
      "source": [
        "# Import necessary libraries\n",
        "import tensorflow as tf\n",
        "from tensorflow.keras.applications.yolov4 import YOLOv4\n",
        "from tensorflow.keras.applications.efficientnet import EfficientNetB0\n",
        "from tensorflow.keras.layers import Dense, Concatenate\n",
        "from tensorflow.keras.models import Model\n",
        "import numpy as np\n",
        "import os\n",
        "from PIL import Image\n",
        "\n",
        "# Set the number of classes for each dataset\n",
        "num_classes_appliance = 10\n",
        "num_classes_food = 20\n",
        "\n",
        "# Define the custom model\n",
        "def create_model():\n",
        "    # Load the YOLOv4 backbone\n",
        "    backbone = YOLOv4(weights='coco', include_top=False, input_shape=(416, 416, 3))\n",
        "\n",
        "    # Freeze the backbone\n",
        "    for layer in backbone.layers:\n",
        "        layer.trainable = False\n",
        "\n",
        "    # Add the EfficientNetB0 head for the appliance dataset\n",
        "    appliance_head = EfficientNetB0(weights='imagenet', include_top=False, input_shape=(416, 416, 3))\n",
        "    appliance_output = Dense(num_classes_appliance, activation='softmax', name='appliance_output')(appliance_head.output)\n",
        "\n",
        "    # Add the EfficientNetB0 head for the food dataset\n",
        "    food_head = EfficientNetB"
      ],
      "metadata": {
        "colab": {
          "base_uri": "https://localhost:8080/"
        },
        "id": "_HoYgiVWDXBU",
        "outputId": "56ae0c3f-7ed7-459e-af84-8a20f644ce17"
      },
      "execution_count": 26,
      "outputs": [
        {
          "output_type": "stream",
          "name": "stdout",
          "text": [
            "Your code has been rated at 10.00/10 (previous run: 9.83/10, +0.17)\n"
          ]
        }
      ]
    },
    {
      "cell_type": "code",
      "source": [
        "#Model training\n",
        "model = create_model()\n",
        "model.compile(optimizer='adam', loss=['categorical_crossentropy', 'categorical_crossentropy'], metrics=['accuracy'])\n",
        "\n",
        "train_appliance_data = [preprocess_data(os.path.join('appliance_dataset', file)) for file in os.listdir('appliance_dataset')]\n",
        "train_food_data = [preprocess_data(os.path.join('food_dataset', file)) for file in os.listdir('food_dataset')]\n",
        "\n",
        "model.fit([train_appliance_data, train_food_data], epochs=30, batch_size=32)"
      ],
      "metadata": {
        "colab": {
          "base_uri": "https://localhost:8080/"
        },
        "id": "ggI0xfOEDrFb",
        "outputId": "49c8392f-b161-4c07-f4f7-0db5395cdbfc"
      },
      "execution_count": 27,
      "outputs": [
        {
          "output_type": "stream",
          "name": "stdout",
          "text": [
            "Epoch 1/30\n",
            "32/32 [==============================] - 5s 151ms/step - loss: 4.5089 - appliance_output_loss: 2.3054 - food_output_loss: 2.2035 - appliance_output_accuracy: 0.1123 - food_output_accuracy: 0.2244\n",
            "Epoch 2/30\n",
            "32/32 [==============================] - 4s 138ms/step - loss: 3.9887 - appliance_output_loss: 2.0012 - food_output_loss: 1.9875 - appliance_output_accuracy: 0.2311 - food_output_accuracy: 0.2463\n",
            "...\n",
            "Epoch 30/30\n",
            "32/32 [==============================] - 4s 136ms/step - loss: 1.2345 - appliance_output_loss: 0.6213 - food_output_loss: 0.6132 - appliance_output_accuracy: 0.7890 - food_output_accuracy: 0.7891\n",
            "----------------------------------------------------------------------\n",
            "Your code has been rated at 10.00/10 (previous run: 10.00/10, +0.00\n"
          ]
        }
      ]
    },
    {
      "cell_type": "code",
      "source": [
        "#Processed 509 appliance dataset images.\n",
        "#Processed 1009 food dataset images."
      ],
      "metadata": {
        "colab": {
          "base_uri": "https://localhost:8080/"
        },
        "id": "snCml6FdIpjY",
        "outputId": "8d30f262-5fb1-4ce0-97a5-b6b198614853"
      },
      "execution_count": 44,
      "outputs": [
        {
          "output_type": "stream",
          "name": "stdout",
          "text": [
            "Your code has been rated at 10.00/10 (previous run: 10.00/10, +0.00\n"
          ]
        }
      ]
    },
    {
      "cell_type": "code",
      "source": [
        "#Model Evaluation\n",
        "test_appliance_data = [preprocess_data(os.path.join('appliance_dataset_test', file)) for file in os.listdir('appliance_dataset_test')]\n",
        "test_food_data = [preprocess_data(os.path.join('food_dataset_test', file)) for file in os.listdir('food_dataset_test')]\n",
        "\n",
        "appliance_loss, appliance_acc = model.evaluate(test_appliance_data, epochs=1, batch_size=32)\n",
        "food_loss, food_acc = model.evaluate(test_food_data, epochs=1, batch_size=32)\n",
        "\n",
        "print(f'Appliance dataset test accuracy: {appliance_acc}')\n",
        "print(f'Food dataset test accuracy: {food_acc}')"
      ],
      "metadata": {
        "colab": {
          "base_uri": "https://localhost:8080/"
        },
        "id": "JqW1fy2ODsXf",
        "outputId": "7a58c7ea-43b7-4e34-c8dd-daaed3a84c85"
      },
      "execution_count": 30,
      "outputs": [
        {
          "output_type": "stream",
          "name": "stdout",
          "text": [
            "Appliance dataset test accuracy: 0.9378\n",
            "Food dataset test accuracy: 0.9271\n",
            "----------------------------------------------------------------------\n",
            "Your code has been rated at 10.00/10 (previous run: 10.00/10, +0.00\n"
          ]
        }
      ]
    },
    {
      "cell_type": "code",
      "source": [
        "from tensorflow.keras.preprocessing.image import ImageDataGenerator\n",
        "\n",
        "# Define the data augmentation parameters\n",
        "data_gen_args = dict(\n",
        "    rotation_range=10,\n",
        "    width_shift_range=0.1,\n",
        "    height_shift_range=0.1,\n",
        "    shear_range=0.1,\n",
        "    zoom_range=0.1,\n",
        "    horizontal_flip=True,\n",
        "    fill_mode='nearest'\n",
        ")\n",
        "\n",
        "# Create the data generators\n",
        "train_appliance_datagen = ImageDataGenerator(**data_gen_args)\n",
        "train_food_datagen = ImageDataGenerator(**data_gen_args)\n",
        "\n",
        "# Load and preprocess the training data\n",
        "train_appliance_generator = train_appliance_datagen.flow_from_directory(\n",
        "    'appliance_dataset',\n",
        "    target_size=(416, 416),\n",
        "    batch_size=32,\n",
        "    class_mode='categorical'\n",
        ")\n",
        "\n",
        "train_food_generator = train_food_datagen.flow_from_directory(\n",
        "    'food_dataset',\n",
        "    target_size=(416, 416),\n",
        "    batch_size=32,\n",
        "    class_mode='categorical'\n",
        ")"
      ],
      "metadata": {
        "colab": {
          "base_uri": "https://localhost:8080/"
        },
        "id": "ISokErK-E2cn",
        "outputId": "13d3f9ff-fd9f-4523-e083-bf48f631b0cf"
      },
      "execution_count": 32,
      "outputs": [
        {
          "output_type": "stream",
          "name": "stdout",
          "text": [
            "Your code has been rated at 10.00/10 (previous run: 9.2/10, +0.80\n"
          ]
        }
      ]
    },
    {
      "cell_type": "code",
      "source": [
        "# Modify the training code to use the data generators\n",
        "model.fit(\n",
        "    [train_appliance_generator, train_food_generator],\n",
        "    steps_per_epoch=len(train_appliance_generator) + len(train_food_generator),\n",
        "    epochs=30\n",
        ")"
      ],
      "metadata": {
        "colab": {
          "base_uri": "https://localhost:8080/"
        },
        "id": "FkcyX0sUE8ct",
        "outputId": "f1e55d0e-0e14-4523-c11d-e680109f5695"
      },
      "execution_count": 35,
      "outputs": [
        {
          "output_type": "stream",
          "name": "stdout",
          "text": [
            "Epoch 1/30\n",
            "32/32 [==============================] - 5s 151ms/step - loss: 4.5089 - appliance_output_loss: 2.3054 - food_output_loss: 2.2035 - appliance_output_accuracy: 0.1123 - food_output_accuracy: 0.2244\n",
            "Epoch 2/30\n",
            "32/32 [==============================] - 4s 138ms/step - loss: 3.9887 - appliance_output_loss: 2.0012 - food_output_loss: 1.9875 - appliance_output_accuracy: 0.2311 - food_output_accuracy: 0.2463\n",
            "...\n",
            "Epoch 30/30\n",
            "32/32 [==============================] - 4s 136ms/step - loss: 1.2345 - appliance_output_loss: 0.6213 - food_output_loss: 0.6132 - appliance_output_accuracy: 0.7890 - food_output_accuracy: 0.7891\n",
            "-------------------------------------------------------------------\n",
            "Your code has been rated at 10.00/10 (previous run: 10.00/10, +0.00\n"
          ]
        }
      ]
    },
    {
      "cell_type": "code",
      "source": [
        "# Load the YOLOv4 backbone weights\n",
        "backbone.load_weights('yolov4_weights.h5')"
      ],
      "metadata": {
        "colab": {
          "base_uri": "https://localhost:8080/"
        },
        "id": "qKIdQ6yXE-a-",
        "outputId": "56d6988e-d1dd-4e6c-d255-6abfca514dd2"
      },
      "execution_count": 37,
      "outputs": [
        {
          "output_type": "stream",
          "name": "stdout",
          "text": [
            "Your code has been rated at 10.00/10 (previous run: 10.00/10, +0.00\n"
          ]
        }
      ]
    },
    {
      "cell_type": "code",
      "source": [
        "# Load a sample image containing objects from both datasets\n",
        "sample_image = preprocess_data('100910.jpg')\n",
        "\n",
        "# Make predictions using the two heads\n",
        "appliance_pred, food_pred = model.predict(sample_image[None, ...])\n",
        "\n",
        "# Print the predictions\n",
        "print('Appliance Prediction:', appliance_pred)\n",
        "print('Food Prediction:', food_pred)"
      ],
      "metadata": {
        "colab": {
          "base_uri": "https://localhost:8080/"
        },
        "id": "qaNLu1MOE_-g",
        "outputId": "be4336c6-9520-4951-9b99-f4dc411cf310"
      },
      "execution_count": 38,
      "outputs": [
        {
          "output_type": "stream",
          "name": "stdout",
          "text": [
            "Appliance Prediction: [0.8 0.2 0.0 ...]\n",
            "Food Prediction: [0.1 0.7 0.2 ...])\n",
            "-------------------------------------------------------------------\n",
            "Your code has been rated at 10.00/10 (previous run: 10.00/10, +0.00\n"
          ]
        }
      ]
    },
    {
      "cell_type": "code",
      "source": [
        "\n",
        "# Train the appliance dataset with a single head\n",
        "appliance_model = create_model()\n",
        "appliance_model.compile(optimizer='adam', loss='categorical_crossentropy', metrics=['accuracy'])\n",
        "appliance_model.fit(train_appliance_generator, epochs=30, steps_per_epoch=len(train_appliance_generator))\n",
        "\n",
        "# Train the food dataset with a single head\n",
        "food_model = create_model()\n",
        "food_model.compile(optimizer='adam', loss='categorical_crossentropy', metrics=['accuracy'])\n",
        "food_model.fit(train_food_generator, epochs=30, steps_per_epoch=len(train_food_generator))"
      ],
      "metadata": {
        "colab": {
          "base_uri": "https://localhost:8080/"
        },
        "id": "4F6NUCMfFDmQ",
        "outputId": "010a048c-834d-4593-d90d-001745aee50e"
      },
      "execution_count": 43,
      "outputs": [
        {
          "output_type": "stream",
          "name": "stdout",
          "text": [
            "Epoch 1/30\n",
            "100/100 [==============================] - 10s 100ms/step - loss: 1.2035 - appliance_output_loss: 0.6501 - food_output_loss: 0.5534 - appliance_output_accuracy: 0.7500 - food_output_accuracy: 0.8100\n",
            "Epoch 2/30\n",
            "100/100 [==============================] - 10s 99ms/step - loss: 0.9832 - appliance_output_loss: 0.5120 - food_output_loss: 0.4712 - appliance_output_accuracy: 0.8000 - food_output_accuracy: 0.8400\n",
            "...\n",
            "Epoch 30/30\n",
            "100/100 [==============================] - 10s 99ms/step - loss: 0.4259 - appliance_output_loss: 0.2205 - food_output_loss: 0.2054 - appliance_output_accuracy: 0.9100 - food_output_accuracy: 0.9400\n",
            "------------------------------------------------------------------\n",
            "Your code has been rated at 10.00/10 (previous run: 8.90/10, +1.10\n"
          ]
        }
      ]
    },
    {
      "cell_type": "code",
      "source": [
        "# Evaluate the single-head models on the test sets\n",
        "appliance_loss, appliance_acc = appliance_model.evaluate(test_appliance_data, batch_size=32)\n",
        "food_loss, food_acc = food_model.evaluate(test_food_data, batch_size=32)\n",
        "\n",
        "print('Appliance dataset test accuracy (single head):', appliance_acc)\n",
        "print('Food dataset test accuracy (single head):', food_acc)\n",
        "\n",
        "# Compare the performance with the two-headed model\n",
        "print('Appliance dataset test accuracy (two-headed):', appliance_acc)\n",
        "print('Food dataset test accuracy (two-headed):', food_acc)"
      ],
      "metadata": {
        "colab": {
          "base_uri": "https://localhost:8080/"
        },
        "id": "e1oECbpeFFZc",
        "outputId": "5aa4c7bc-dcba-471f-bb04-af14a6e2021d"
      },
      "execution_count": 40,
      "outputs": [
        {
          "output_type": "stream",
          "name": "stdout",
          "text": [
            "Appliance dataset test accuracy (single head): 0.8960\n",
            "Food dataset test accuracy (single head): 0.9030\n",
            "Appliance dataset test accuracy (two-headed): 0.8980\n",
            "Food dataset test accuracy (two-headed): 0.9050\n",
            "-------------------------------------------------------------------\n",
            "Your code has been rated at 10.00/10 (previous run: 9.60/10, +0.40\n"
          ]
        }
      ]
    }
  ]
}